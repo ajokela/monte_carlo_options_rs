{
 "cells": [
  {
   "cell_type": "code",
   "execution_count": null,
   "id": "9a080c28-dca1-4117-933b-ff98b92a37a9",
   "metadata": {},
   "outputs": [],
   "source": [
    "import numpy as np\n",
    "\n",
    "def american_call_option(S0, K, r, sigma, T, N, M):\n",
    "    dt = T / N\n",
    "    discount_factor = np.exp(-r * dt)\n",
    "    u = np.exp(sigma * np.sqrt(dt))\n",
    "    d = 1 / u\n",
    "    p = (np.exp(r * dt) - d) / (u - d)\n",
    "    \n",
    "    option_values = np.zeros((N + 1, M))\n",
    "    stock_prices = np.zeros((N + 1, M))\n",
    "    stock_prices[0] = S0\n",
    "    \n",
    "    for j in range(M):\n",
    "        for i in range(1, N + 1):\n",
    "            if np.random.random() < p:\n",
    "                stock_prices[i, j] = stock_prices[i - 1, j] * u\n",
    "            else:\n",
    "                stock_prices[i, j] = stock_prices[i - 1, j] * d\n",
    "    \n",
    "    option_values[N] = np.maximum(stock_prices[N] - K, 0)\n",
    "    \n",
    "    for i in range(N - 1, -1, -1):\n",
    "        X = stock_prices[i]\n",
    "        Y = option_values[i + 1] * discount_factor\n",
    "        \n",
    "        # Create basis functions for regression\n",
    "        basis_functions = np.column_stack((\n",
    "            np.ones(M),  # Constant term\n",
    "            X,  # Stock price\n",
    "            X**2,  # Stock price squared\n",
    "            np.maximum(X - K, 0)  # Intrinsic value\n",
    "        ))\n",
    "        \n",
    "        # Perform linear regression\n",
    "        coefficients = np.linalg.lstsq(basis_functions, Y, rcond=None)[0]\n",
    "        \n",
    "        continuation_value = np.dot(basis_functions, coefficients)\n",
    "        option_values[i] = np.where(stock_prices[i] - K > continuation_value, stock_prices[i] - K, continuation_value)\n",
    "    \n",
    "    return np.mean(option_values[0])\n",
    "\n",
    "# Example usage\n",
    "S0 = 100  # Initial stock price\n",
    "K = 100  # Strike price\n",
    "r = 0.05  # Risk-free interest rate\n",
    "sigma = 0.2  # Volatility\n",
    "T = 1  # Time to maturity (in years)\n",
    "N = 100  # Number of time steps\n",
    "M = 10000  # Number of simulations\n",
    "\n",
    "american_call_price = american_call_option(S0, K, r, sigma, T, N, M)\n",
    "print(f\"American Call Option Price: {american_call_price:.2f}\")"
   ]
  },
  {
   "cell_type": "code",
   "execution_count": 1,
   "id": "2bced713-2d48-4b76-9710-ed8a5bdcf15f",
   "metadata": {},
   "outputs": [],
   "source": [
    "from libmonte_carlo_options_rs import *"
   ]
  },
  {
   "cell_type": "code",
   "execution_count": 2,
   "id": "658b42d7-19b2-4082-bb3d-c9d3a275b53c",
   "metadata": {},
   "outputs": [
    {
     "name": "stdout",
     "output_type": "stream",
     "text": [
      "American Call Option Price: 10.74\n",
      "Delta: 1.0118\n",
      "Gamma: 0.0137\n",
      "Vega: 32.6318\n",
      "Theta: -0.0102\n",
      "Rho: 1.1596\n"
     ]
    }
   ],
   "source": [
    "spot_price = 100.0\n",
    "strike_price = 100.0\n",
    "risk_free_rate = 0.05\n",
    "volatility = 0.2\n",
    "time_to_maturity = 1.0\n",
    "num_simulations = 100000\n",
    "num_steps = 252\n",
    "\n",
    "price = monte_carlo_american_call(spot_price, strike_price, risk_free_rate, volatility, time_to_maturity, num_simulations, num_steps)\n",
    "delta = calculate_delta(spot_price, strike_price, risk_free_rate, volatility, time_to_maturity, num_simulations, num_steps)\n",
    "gamma = calculate_gamma(spot_price, strike_price, risk_free_rate, volatility, time_to_maturity, num_simulations, num_steps)\n",
    "vega = calculate_vega(spot_price, strike_price, risk_free_rate, volatility, time_to_maturity, num_simulations, num_steps)\n",
    "theta = calculate_theta(spot_price, strike_price, risk_free_rate, volatility, time_to_maturity, num_simulations, num_steps)\n",
    "rho = calculate_rho(spot_price, strike_price, risk_free_rate, volatility, time_to_maturity, num_simulations, num_steps)\n",
    "\n",
    "print(f\"American Call Option Price: {price:.2f}\")\n",
    "print(f\"Delta: {delta:.4f}\")\n",
    "print(f\"Gamma: {gamma:.4f}\")\n",
    "print(f\"Vega: {vega:.4f}\")\n",
    "print(f\"Theta: {theta:.4f}\")\n",
    "print(f\"Rho: {rho:.4f}\")"
   ]
  },
  {
   "cell_type": "code",
   "execution_count": null,
   "id": "f84fa4dc-09f3-40bf-b8a3-dabbb30265be",
   "metadata": {},
   "outputs": [],
   "source": []
  }
 ],
 "metadata": {
  "kernelspec": {
   "display_name": "Python 3 (ipykernel)",
   "language": "python",
   "name": "python3"
  },
  "language_info": {
   "codemirror_mode": {
    "name": "ipython",
    "version": 3
   },
   "file_extension": ".py",
   "mimetype": "text/x-python",
   "name": "python",
   "nbconvert_exporter": "python",
   "pygments_lexer": "ipython3",
   "version": "3.11.7"
  }
 },
 "nbformat": 4,
 "nbformat_minor": 5
}
